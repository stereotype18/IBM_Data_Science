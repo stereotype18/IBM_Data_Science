{
 "cells": [
  {
   "cell_type": "markdown",
   "id": "3a7d529e-73a5-4a08-9def-3df1ee90dd16",
   "metadata": {},
   "source": [
    "# Data Science Tools and Ecosystem"
   ]
  },
  {
   "cell_type": "markdown",
   "id": "2d42fab5-adc3-4f64-b77c-ab9f20b1fa38",
   "metadata": {},
   "source": [
    "In this notebook, Data Science Tools and Ecosystem are summarized"
   ]
  },
  {
   "cell_type": "markdown",
   "id": "5542eee6-11c6-4dcd-abb0-20f4b229a047",
   "metadata": {},
   "source": [
    "Some of the popular languages that Data Scientists use are:\n",
    "1. R \n",
    "2. Python\n",
    "3. Scala\n",
    "\n"
   ]
  },
  {
   "cell_type": "markdown",
   "id": "a8653312-54d0-402c-9964-4a12382a5a16",
   "metadata": {},
   "source": [
    "Some of the commonly used libraries used by Data Scientists include:\n",
    "\n",
    "- Pandas\n",
    "- Numpy\n",
    "- Matplotlib"
   ]
  },
  {
   "cell_type": "markdown",
   "id": "35761bfe-e036-418c-a9f5-d769a5c80fb4",
   "metadata": {},
   "source": [
    "|Data Science Tools|\n",
    "|:----------------:|\n",
    "|R Studio|\n",
    "|Anacondas|\n",
    "|Jupyter lab|"
   ]
  },
  {
   "cell_type": "markdown",
   "id": "fab3f03b-64a3-4a90-bde7-3eef2c403191",
   "metadata": {},
   "source": [
    "### Below are a few examples of evaluating arithmetic expressions in Python"
   ]
  },
  {
   "cell_type": "code",
   "execution_count": 3,
   "id": "621139cd-416e-455e-898b-aab2ec0120d6",
   "metadata": {
    "tags": []
   },
   "outputs": [
    {
     "data": {
      "text/plain": [
       "17"
      ]
     },
     "execution_count": 3,
     "metadata": {},
     "output_type": "execute_result"
    }
   ],
   "source": [
    "#This a simple arithmetic expression to mutiply then add integers\n",
    "(3*4)+5"
   ]
  },
  {
   "cell_type": "code",
   "execution_count": 5,
   "id": "de1a1c73-53b1-4702-9705-27f883138db2",
   "metadata": {
    "tags": []
   },
   "outputs": [
    {
     "data": {
      "text/plain": [
       "3.3333333333333335"
      ]
     },
     "execution_count": 5,
     "metadata": {},
     "output_type": "execute_result"
    }
   ],
   "source": [
    "# This will convert 200 minutes to hours by diving by 60\n",
    "\n",
    "200/60"
   ]
  },
  {
   "cell_type": "markdown",
   "id": "911f3716-8e04-4cdc-ba30-c1f577dda3b2",
   "metadata": {},
   "source": [
    "**Objectives :** I have learnt about Data Science tools and also about github\n",
    "\n",
    "\n",
    "Popular languages for Data Science\n",
    "- R \n",
    "- Scala\n",
    "- Python\n"
   ]
  },
  {
   "cell_type": "markdown",
   "id": "a75786ad-1671-4c95-a6c4-4f34a954e60a",
   "metadata": {},
   "source": [
    "## Author\n",
    "Uthayakumar Ravi"
   ]
  },
  {
   "cell_type": "code",
   "execution_count": null,
   "id": "47c3e2e1-4d11-4e8e-bc34-986ccc46968f",
   "metadata": {},
   "outputs": [],
   "source": []
  }
 ],
 "metadata": {
  "kernelspec": {
   "display_name": "Python",
   "language": "python",
   "name": "conda-env-python-py"
  },
  "language_info": {
   "codemirror_mode": {
    "name": "ipython",
    "version": 3
   },
   "file_extension": ".py",
   "mimetype": "text/x-python",
   "name": "python",
   "nbconvert_exporter": "python",
   "pygments_lexer": "ipython3",
   "version": "3.7.12"
  }
 },
 "nbformat": 4,
 "nbformat_minor": 5
}
